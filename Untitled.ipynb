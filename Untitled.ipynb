{
 "cells": [
  {
   "cell_type": "code",
   "execution_count": 2,
   "id": "a7797654",
   "metadata": {},
   "outputs": [],
   "source": [
    "import pandas as pd\n",
    "import numpy as np"
   ]
  },
  {
   "cell_type": "code",
   "execution_count": 34,
   "id": "dd34bb75",
   "metadata": {},
   "outputs": [],
   "source": [
    "file = \"results.txt\""
   ]
  },
  {
   "cell_type": "code",
   "execution_count": 35,
   "id": "ce70f19f",
   "metadata": {},
   "outputs": [],
   "source": [
    "df = pd.read_csv(file,header=None)"
   ]
  },
  {
   "cell_type": "code",
   "execution_count": 36,
   "id": "1c6c5aab",
   "metadata": {},
   "outputs": [],
   "source": [
    "df = df.iloc[:,[9,15,16]]"
   ]
  },
  {
   "cell_type": "code",
   "execution_count": 39,
   "id": "9eab2408",
   "metadata": {},
   "outputs": [
    {
     "data": {
      "text/plain": [
       "9                                 \"min_ratings\": 5\n",
       "15     \"metrics\": {\"Precision - Intersection\": 1.0\n",
       "16       \"MAP - Intersection\": 0.965601749867896}}\n",
       "Name: 5, dtype: object"
      ]
     },
     "execution_count": 39,
     "metadata": {},
     "output_type": "execute_result"
    }
   ],
   "source": [
    "df.iloc[5,:]"
   ]
  },
  {
   "cell_type": "code",
   "execution_count": null,
   "id": "a044b54b",
   "metadata": {},
   "outputs": [],
   "source": []
  }
 ],
 "metadata": {
  "kernelspec": {
   "display_name": "Python 3 (ipykernel)",
   "language": "python",
   "name": "python3"
  },
  "language_info": {
   "codemirror_mode": {
    "name": "ipython",
    "version": 3
   },
   "file_extension": ".py",
   "mimetype": "text/x-python",
   "name": "python",
   "nbconvert_exporter": "python",
   "pygments_lexer": "ipython3",
   "version": "3.9.7"
  }
 },
 "nbformat": 4,
 "nbformat_minor": 5
}
